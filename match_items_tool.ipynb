{
 "cells": [
  {
   "cell_type": "code",
   "execution_count": 2,
   "id": "d68e5893-772f-4a67-aa0f-be5e74ccf5ed",
   "metadata": {},
   "outputs": [
    {
     "name": "stdout",
     "output_type": "stream",
     "text": [
      "🧪 Item Matcher Tool – Match master and stock data with Python\n"
     ]
    },
    {
     "name": "stdin",
     "output_type": "stream",
     "text": [
      "Enter the name of the master file (e.g. master.csv):  master.csv\n",
      "Enter the name of the stock file (e.g. stock.csv):  stock.csv\n"
     ]
    },
    {
     "name": "stdout",
     "output_type": "stream",
     "text": [
      "✅ Success! Output saved to: matched_items_20250624_203154.csv\n"
     ]
    }
   ],
   "source": [
    "import pandas as pd\n",
    "import os\n",
    "from datetime import datetime\n",
    "\n",
    "def clean_and_merge(master_file, stock_file):\n",
    "    try:\n",
    "        # Load and clean master file\n",
    "        df_master = pd.read_csv(master_file, dtype=str)\n",
    "        df_master.columns = df_master.columns.str.strip()\n",
    "        df_master = df_master[[\"Item Name\", \"Description\"]].copy()\n",
    "        df_master.rename(columns={\"Description\": \"Item Description\"}, inplace=True)\n",
    "        df_master[\"Item_clean\"] = df_master[\"Item Name\"].str.strip().str.lstrip(\"0\")\n",
    "\n",
    "        # Load and clean stock file\n",
    "        df_stock = pd.read_csv(stock_file, dtype=str)\n",
    "        df_stock.columns = df_stock.columns.str.strip()\n",
    "        df_stock = df_stock[[\"Item Name\", \"On-Hand Quantity\", \"Item Primary Unit of Measure\"]].copy()\n",
    "        df_stock.rename(columns={\n",
    "            \"On-Hand Quantity\": \"Quantity\",\n",
    "            \"Item Primary Unit of Measure\": \"UOM\"\n",
    "        }, inplace=True)\n",
    "        df_stock[\"Item_clean\"] = df_stock[\"Item Name\"].str.strip().str.lstrip(\"0\")\n",
    "\n",
    "        # Merge on cleaned item codes\n",
    "        merged = pd.merge(df_master, df_stock[[\"Item_clean\", \"Quantity\", \"UOM\"]],\n",
    "                          on=\"Item_clean\", how=\"inner\")\n",
    "\n",
    "        # Final column selection\n",
    "        merged = merged[[\"Item Name\", \"Item Description\", \"Quantity\", \"UOM\"]]\n",
    "\n",
    "        # Generate output filename with timestamp\n",
    "        timestamp = datetime.now().strftime(\"%Y%m%d_%H%M%S\")\n",
    "        output_file = f\"matched_items_{timestamp}.csv\"\n",
    "        merged.to_csv(output_file, index=False)\n",
    "\n",
    "        print(f\"✅ Success! Output saved to: {output_file}\")\n",
    "    except FileNotFoundError as e:\n",
    "        print(f\"❌ Error: {e}\")\n",
    "    except Exception as e:\n",
    "        print(f\"⚠️ Something went wrong: {e}\")\n",
    "\n",
    "def main():\n",
    "    print(\"🧪 Item Matcher Tool – Match master and stock data with Python\")\n",
    "    master_file = input(\"Enter the name of the master file (e.g. master.csv): \").strip()\n",
    "    stock_file = input(\"Enter the name of the stock file (e.g. stock.csv): \").strip()\n",
    "    \n",
    "    if not os.path.exists(master_file):\n",
    "        print(f\"❌ File not found: {master_file}\")\n",
    "        return\n",
    "    if not os.path.exists(stock_file):\n",
    "        print(f\"❌ File not found: {stock_file}\")\n",
    "        return\n",
    "\n",
    "    clean_and_merge(master_file, stock_file)\n",
    "\n",
    "if __name__ == \"__main__\":\n",
    "    main()"
   ]
  },
  {
   "cell_type": "code",
   "execution_count": null,
   "id": "dfcf40b8-b6ad-4bdb-9a8e-b41b21abba3d",
   "metadata": {},
   "outputs": [],
   "source": []
  }
 ],
 "metadata": {
  "kernelspec": {
   "display_name": "Python [conda env:base] *",
   "language": "python",
   "name": "conda-base-py"
  },
  "language_info": {
   "codemirror_mode": {
    "name": "ipython",
    "version": 3
   },
   "file_extension": ".py",
   "mimetype": "text/x-python",
   "name": "python",
   "nbconvert_exporter": "python",
   "pygments_lexer": "ipython3",
   "version": "3.12.7"
  }
 },
 "nbformat": 4,
 "nbformat_minor": 5
}
